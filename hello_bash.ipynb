{
 "cells": [
  {
   "cell_type": "code",
   "execution_count": null,
   "id": "7399428c-64ea-435d-9722-98038838224f",
   "metadata": {},
   "outputs": [],
   "source": [
    "#Hello World in Bash"
   ]
  },
  {
   "cell_type": "code",
   "execution_count": 1,
   "id": "b1b03474-0c25-4fc2-91a6-2625807fdacf",
   "metadata": {},
   "outputs": [
    {
     "name": "stdout",
     "output_type": "stream",
     "text": [
      "Hello, World from Bash!\n"
     ]
    }
   ],
   "source": [
    "%%bash\n",
    "echo \"Hello, World from Bash!\""
   ]
  },
  {
   "cell_type": "code",
   "execution_count": null,
   "id": "fef16f41-b71f-4793-a3f7-9393561f95d4",
   "metadata": {},
   "outputs": [],
   "source": []
  }
 ],
 "metadata": {
  "kernelspec": {
   "display_name": "Python (7030_class_1)",
   "language": "python",
   "name": "7030_class_1"
  },
  "language_info": {
   "codemirror_mode": {
    "name": "ipython",
    "version": 3
   },
   "file_extension": ".py",
   "mimetype": "text/x-python",
   "name": "python",
   "nbconvert_exporter": "python",
   "pygments_lexer": "ipython3",
   "version": "3.10.18"
  }
 },
 "nbformat": 4,
 "nbformat_minor": 5
}
