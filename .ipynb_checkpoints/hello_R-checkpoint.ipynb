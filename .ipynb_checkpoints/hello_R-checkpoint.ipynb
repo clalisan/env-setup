{
 "cells": [
  {
   "cell_type": "markdown",
   "id": "4d53bdb4-60c8-4b6b-b439-cdfe6a3c7562",
   "metadata": {},
   "source": [
    "# Hello World in R"
   ]
  },
  {
   "cell_type": "code",
   "execution_count": 1,
   "id": "d10232b6-a55c-42a8-bdf6-760949cbfdc8",
   "metadata": {},
   "outputs": [
    {
     "name": "stdout",
     "output_type": "stream",
     "text": [
      "Hello, World from R!\n"
     ]
    }
   ],
   "source": [
    "cat(\"Hello, World from R!\\n\")"
   ]
  },
  {
   "cell_type": "code",
   "execution_count": null,
   "id": "1ed5862e-26da-4630-adc9-8e6ec4ed248a",
   "metadata": {},
   "outputs": [],
   "source": []
  }
 ],
 "metadata": {
  "kernelspec": {
   "display_name": "R (7030_class_1)",
   "language": "R",
   "name": "ir_7030_class_1"
  },
  "language_info": {
   "codemirror_mode": "r",
   "file_extension": ".r",
   "mimetype": "text/x-r-source",
   "name": "R",
   "pygments_lexer": "r",
   "version": "4.4.3"
  }
 },
 "nbformat": 4,
 "nbformat_minor": 5
}
