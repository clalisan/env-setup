{
 "cells": [
  {
   "cell_type": "code",
   "execution_count": null,
   "id": "f4016899-15af-4e62-82e0-c10bb8a5c575",
   "metadata": {},
   "outputs": [],
   "source": [
    "#Hello World Python"
   ]
  },
  {
   "cell_type": "code",
   "execution_count": 1,
   "id": "585332e5-fc67-475b-a2aa-f2e88d744547",
   "metadata": {},
   "outputs": [
    {
     "name": "stdout",
     "output_type": "stream",
     "text": [
      "Hello, World From Python!\n"
     ]
    }
   ],
   "source": [
    "print(\"Hello, World From Python!\")"
   ]
  },
  {
   "cell_type": "code",
   "execution_count": null,
   "id": "55bd9695-6aad-4aa4-b713-038d3341531c",
   "metadata": {},
   "outputs": [],
   "source": []
  }
 ],
 "metadata": {
  "kernelspec": {
   "display_name": "Python (7030_class_1)",
   "language": "python",
   "name": "7030_class_1"
  },
  "language_info": {
   "codemirror_mode": {
    "name": "ipython",
    "version": 3
   },
   "file_extension": ".py",
   "mimetype": "text/x-python",
   "name": "python",
   "nbconvert_exporter": "python",
   "pygments_lexer": "ipython3",
   "version": "3.10.18"
  }
 },
 "nbformat": 4,
 "nbformat_minor": 5
}
